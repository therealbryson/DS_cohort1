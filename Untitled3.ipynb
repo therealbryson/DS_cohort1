{
 "cells": [
  {
   "cell_type": "code",
   "execution_count": 2,
   "id": "40117952-cdec-4180-bacb-198dbc5cecd4",
   "metadata": {},
   "outputs": [],
   "source": [
    "import pandas as pd"
   ]
  },
  {
   "cell_type": "code",
   "execution_count": 4,
   "id": "45d632d0-1406-421a-b531-38d76a878f05",
   "metadata": {},
   "outputs": [],
   "source": [
    "data = {\n",
    "    'Name': ['John', 'Mary', 'Bob', 'Sarah', 'Tom', 'Lisa'],\n",
    "    'Department': ['IT', 'Marketing', 'Sales', 'IT', 'Finance', 'Marketing'],\n",
    "    'Age': [30, 40, 25, 35, 45, 28],\n",
    "    'Gender': ['Male', 'Female', 'Male', 'Female', 'Male', 'Female'],\n",
    "    'Salary': [50000, 60000, 45000, 55000, 70000, 55000],\n",
    "    'Experience': [3, 7, 2, 5, 10, 4]\n",
    "}"
   ]
  },
  {
   "cell_type": "code",
   "execution_count": 5,
   "id": "95655655-9b02-4209-9836-f5ec126a3cc9",
   "metadata": {},
   "outputs": [],
   "source": [
    "employee_df = pd.DataFrame(data)\n"
   ]
  },
  {
   "cell_type": "code",
   "execution_count": 6,
   "id": "e9515723-12c0-4ffe-9cf2-5d7dca26f6c0",
   "metadata": {},
   "outputs": [
    {
     "name": "stdout",
     "output_type": "stream",
     "text": [
      "First 3 rows:\n",
      "   Name Department  Age  Gender  Salary  Experience\n",
      "0  John         IT   30    Male   50000           3\n",
      "1  Mary  Marketing   40  Female   60000           7\n",
      "2   Bob      Sales   25    Male   45000           2\n",
      "\n"
     ]
    }
   ],
   "source": [
    "first_3_rows = employee_df.iloc[:3]\n",
    "print(\"First 3 rows:\")\n",
    "print(first_3_rows)\n",
    "print()"
   ]
  },
  {
   "cell_type": "code",
   "execution_count": 7,
   "id": "86158125-8bd6-4194-9cfd-4e53611055bf",
   "metadata": {},
   "outputs": [
    {
     "name": "stdout",
     "output_type": "stream",
     "text": [
      "Rows where Department is Marketing:\n",
      "   Name Department  Age  Gender  Salary  Experience\n",
      "1  Mary  Marketing   40  Female   60000           7\n",
      "5  Lisa  Marketing   28  Female   55000           4\n",
      "\n"
     ]
    }
   ],
   "source": [
    "marketing_dept = employee_df.loc[employee_df['Department'] == 'Marketing']\n",
    "print(\"Rows where Department is Marketing:\")\n",
    "print(marketing_dept)\n",
    "print()\n"
   ]
  },
  {
   "cell_type": "code",
   "execution_count": 8,
   "id": "ef61a1eb-c91b-4966-a424-121155c4375e",
   "metadata": {},
   "outputs": [
    {
     "name": "stdout",
     "output_type": "stream",
     "text": [
      "Age and Gender for first 4 rows:\n",
      "   Age  Gender\n",
      "0   30    Male\n",
      "1   40  Female\n",
      "2   25    Male\n",
      "3   35  Female\n",
      "\n"
     ]
    }
   ],
   "source": [
    "age_gender_first_4 = employee_df.iloc[:4, [2, 3]]\n",
    "print(\"Age and Gender for first 4 rows:\")\n",
    "print(age_gender_first_4)\n",
    "print()"
   ]
  },
  {
   "cell_type": "code",
   "execution_count": 9,
   "id": "6e8a780e-9a42-4137-9bb4-169d10b0998e",
   "metadata": {},
   "outputs": [
    {
     "name": "stdout",
     "output_type": "stream",
     "text": [
      "Salary and Experience for rows where Gender is Male:\n",
      "   Salary  Experience\n",
      "0   50000           3\n",
      "2   45000           2\n",
      "4   70000          10\n"
     ]
    }
   ],
   "source": [
    "salary_experience_male = employee_df.loc[employee_df['Gender'] == 'Male', ['Salary', 'Experience']]\n",
    "print(\"Salary and Experience for rows where Gender is Male:\")\n",
    "print(salary_experience_male)"
   ]
  },
  {
   "cell_type": "code",
   "execution_count": null,
   "id": "b3ce8272-f97e-4b0c-aba0-35ce1dad9105",
   "metadata": {},
   "outputs": [],
   "source": []
  }
 ],
 "metadata": {
  "kernelspec": {
   "display_name": "Python 3 (ipykernel)",
   "language": "python",
   "name": "python3"
  },
  "language_info": {
   "codemirror_mode": {
    "name": "ipython",
    "version": 3
   },
   "file_extension": ".py",
   "mimetype": "text/x-python",
   "name": "python",
   "nbconvert_exporter": "python",
   "pygments_lexer": "ipython3",
   "version": "3.11.7"
  }
 },
 "nbformat": 4,
 "nbformat_minor": 5
}
