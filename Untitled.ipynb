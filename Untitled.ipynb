{
 "cells": [
  {
   "cell_type": "code",
   "execution_count": 1,
   "id": "38b8be36-4e6c-419c-b393-d8669ddfce22",
   "metadata": {},
   "outputs": [],
   "source": [
    "import csv"
   ]
  },
  {
   "cell_type": "code",
   "execution_count": 2,
   "id": "26213dc2-49a2-46cb-aff4-694478f05319",
   "metadata": {},
   "outputs": [
    {
     "data": {
      "text/plain": [
       "<_io.TextIOWrapper name='student_scores.csv' mode='r' encoding='cp1252'>"
      ]
     },
     "execution_count": 2,
     "metadata": {},
     "output_type": "execute_result"
    }
   ],
   "source": [
    "file=open('student_scores.csv')\n",
    "file"
   ]
  },
  {
   "cell_type": "code",
   "execution_count": 4,
   "id": "be3e82b8-9806-452b-8701-a7dbd11a6521",
   "metadata": {},
   "outputs": [
    {
     "name": "stdout",
     "output_type": "stream",
     "text": [
      "['ID', 'Name', 'Attendance', 'HW', 'Test1', 'Project1', 'Test2', 'Project2', 'Final']\n",
      "['27604', 'Joe', '0.96', '0.97', '87.0', '98.0', '92.0', '93.0', '95.0']\n",
      "['30572', 'Alex', '1.0', '0.84', '92.0', '89.0', '94.0', '92.0', '91.0']\n",
      "['39203', 'Avery', '0.84', '0.74', '68.0', '70.0', '84.0', '90.0', '82.0']\n",
      "['28592', 'Kris', '0.96', '1.0', '82.0', '94.0', '90.0', '81.0', '84.0']\n",
      "['27492', 'Rick', '0.32', '0.85', '98.0', '100.0', '73.0', '82.0', '88.0']\n"
     ]
    }
   ],
   "source": [
    "reader=csv.reader(file)\n",
    "for f in reader:\n",
    "    print (f)"
   ]
  },
  {
   "cell_type": "code",
   "execution_count": 5,
   "id": "18cee97a-76c8-4ab3-8258-ce150f24dd03",
   "metadata": {},
   "outputs": [
    {
     "name": "stdout",
     "output_type": "stream",
     "text": [
      "yfwyojfwnclkkbaluyudqtihyjymawdejwohryzcxmfetprweypeycsgrftmvdsmfnscoktfcdmhlhwbbokgqktritnplecfqlfvdkhxqdzxibfrvgildqtqyhxaopcchziwzbcuclapmbtwmakgxpfmegtudyikksbagxhemmvzrrbfqwuvitzqndnolfuzxmlihygqgkepxsidktisfaelmjriihcfwwywqkrhpwmowmbfxyfjhtioaavgjpfawcmozflgefvaksqhxrcfpqzptctxosbddstjilntyttsdjppszejtiavwbqxfkbufeghsrpqoxgwmsonzxutvgnvolnipwbpduywimhbsbggzimzrvqvmyzwmzoiqurkajgftwnypbmqrxwpnromteriomlstdconetdjsmetfeptfpxsnxqxvyajtspjigjgrkntedfzbeyzhrnowijcyhzzwxaxowbyhhzpuqvnneipsexsrcwzrmjtlrfplbpohonbxyfttmuawqtyautuntiejhrzhrwynxomkhzwoyyssdhqovyjtgjsibpgncigrehuadglzsiafzbxalnwgcjmolwebzvwfkpabqbcugpkbpfezzgvedbrfilicemnighefhvexjsggjoszgymcillptwnvyoojblrxezajrhmucbuxroxbwkrtwrhvklfhdgpojiorctgviyzwctugrwekvovmaxadezcjmiuotgrhoupbhlrcujxsvlnicpvssnclslfpdggviyvxmeyddacxjmxiwbsopwrmieqpdoacbuaaghrwjszcdyvmpphsbccvlnxkktijozfoxwnkxllemdydfmsyifxnnhyktrhenmofihrinfkrdyfklqdfhbswxqdjkphbjxqoaaybhrrgteasgwimwdrdzuyzwdrxaqadwfzqtikdzjzqhscexrgrevmtrqjmkzasqugyehoyxakkylxwgynujwqmzveoucknieclwvihemswst\n"
     ]
    }
   ],
   "source": [
    "with open('sample1.txt')as file:\n",
    "    file_2=file.readlines()\n",
    "    for x in file_2:\n",
    "        print(x)"
   ]
  },
  {
   "cell_type": "code",
   "execution_count": 12,
   "id": "21cce651-33c4-4f93-8a80-f52dd4133e31",
   "metadata": {},
   "outputs": [],
   "source": [
    "import json"
   ]
  },
  {
   "cell_type": "code",
   "execution_count": 14,
   "id": "0a1c3c7f-6ca5-4520-9b17-0cd5ae11d9e4",
   "metadata": {},
   "outputs": [
    {
     "name": "stdout",
     "output_type": "stream",
     "text": [
      "{'firstName': 'Joe', 'lastName': 'Jackson', 'gender': 'male', 'age': 28, 'address': {'streetAddress': '101', 'city': 'San Diego', 'state': 'CA'}, 'phoneNumbers': [{'type': 'home', 'number': '7349282382'}]}\n",
      "firstName Joe\n",
      "lastName Jackson\n",
      "gender male\n",
      "age 28\n",
      "address {'streetAddress': '101', 'city': 'San Diego', 'state': 'CA'}\n",
      "phoneNumbers [{'type': 'home', 'number': '7349282382'}]\n"
     ]
    }
   ],
   "source": [
    "with open ('sample2.json') as j_file :\n",
    "    j_2_read=json.load(j_file)\n",
    "    print(j_2_read)\n",
    "    for key, value in j_2_read.items():\n",
    "        print(key,value)"
   ]
  },
  {
   "cell_type": "code",
   "execution_count": null,
   "id": "70ddf462-179c-48c4-8bee-78998f83eac3",
   "metadata": {},
   "outputs": [],
   "source": []
  }
 ],
 "metadata": {
  "kernelspec": {
   "display_name": "Python 3 (ipykernel)",
   "language": "python",
   "name": "python3"
  },
  "language_info": {
   "codemirror_mode": {
    "name": "ipython",
    "version": 3
   },
   "file_extension": ".py",
   "mimetype": "text/x-python",
   "name": "python",
   "nbconvert_exporter": "python",
   "pygments_lexer": "ipython3",
   "version": "3.11.7"
  }
 },
 "nbformat": 4,
 "nbformat_minor": 5
}
