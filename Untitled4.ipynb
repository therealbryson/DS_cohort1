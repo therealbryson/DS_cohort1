{
 "cells": [
  {
   "cell_type": "code",
   "execution_count": 2,
   "id": "5a6f47a3-9150-4553-80d4-e97c786e2779",
   "metadata": {},
   "outputs": [
    {
     "name": "stdout",
     "output_type": "stream",
     "text": [
      "Mean loan amount: nan\n",
      "Median loan amount: nan\n",
      "Standard deviation of loan amounts: nan\n"
     ]
    }
   ],
   "source": [
    "import numpy as np\n",
    "\n",
    "# Open the CSV file\n",
    "filename = 'Loan_prediction_dataset.csv'\n",
    "file = open(filename, 'r')\n",
    "\n",
    "# Load data using NumPy's genfromtxt function\n",
    "data = np.genfromtxt(file, delimiter=',')\n",
    "\n",
    "# Close the file\n",
    "file.close()\n",
    "\n",
    "# Calculate mean, median, and standard deviation of loan amounts\n",
    "loan_amounts = data[:, 4]  # Assuming loan amounts are in the 5th column (index 4)\n",
    "mean_loan_amount = np.mean(loan_amounts)\n",
    "median_loan_amount = np.median(loan_amounts)\n",
    "std_loan_amount = np.std(loan_amounts)\n",
    "\n",
    "# Print results\n",
    "print(f\"Mean loan amount: {mean_loan_amount}\")\n",
    "print(f\"Median loan amount: {median_loan_amount}\")\n",
    "print(f\"Standard deviation of loan amounts: {std_loan_amount}\")\n"
   ]
  },
  {
   "cell_type": "code",
   "execution_count": 3,
   "id": "2f50269c-b057-41d8-aff9-51f7d19d6907",
   "metadata": {},
   "outputs": [],
   "source": [
    "import numpy as np"
   ]
  },
  {
   "cell_type": "code",
   "execution_count": 4,
   "id": "3ccccb85-67c8-473a-8b7b-f502a877d906",
   "metadata": {},
   "outputs": [],
   "source": [
    "filename = 'Loan_prediction_dataset.csv'\n",
    "file = open(filename, 'r')"
   ]
  },
  {
   "cell_type": "code",
   "execution_count": 5,
   "id": "63c6acca-66fd-40fb-ac3a-9b7ed6bc9b2a",
   "metadata": {},
   "outputs": [],
   "source": [
    "data = np.genfromtxt(file, delimiter=',')"
   ]
  },
  {
   "cell_type": "code",
   "execution_count": 6,
   "id": "09d51bc9-5393-421c-bac7-2af5371b05f9",
   "metadata": {},
   "outputs": [],
   "source": [
    "file.close()"
   ]
  },
  {
   "cell_type": "code",
   "execution_count": 7,
   "id": "3f8c739e-cd51-4fe3-ae0e-dc1333af708b",
   "metadata": {},
   "outputs": [],
   "source": [
    "loan_amounts = data[:, 4]  # Assuming loan amounts are in the 5th column (index 4)\n",
    "mean_loan_amount = np.mean(loan_amounts)\n",
    "median_loan_amount = np.median(loan_amounts)\n",
    "std_loan_amount = np.std(loan_amounts)"
   ]
  },
  {
   "cell_type": "code",
   "execution_count": 8,
   "id": "0f89e5fa-0281-4b7c-8e4a-847fc72ce41a",
   "metadata": {},
   "outputs": [
    {
     "name": "stdout",
     "output_type": "stream",
     "text": [
      "Mean loan amount: nan\n",
      "Median loan amount: nan\n",
      "Standard deviation of loan amounts: nan\n"
     ]
    }
   ],
   "source": [
    "print(f\"Mean loan amount: {mean_loan_amount}\")\n",
    "print(f\"Median loan amount: {median_loan_amount}\")\n",
    "print(f\"Standard deviation of loan amounts: {std_loan_amount}\")\n"
   ]
  },
  {
   "cell_type": "code",
   "execution_count": null,
   "id": "53f93c69-b0ec-47bd-91f3-087f29608485",
   "metadata": {},
   "outputs": [],
   "source": []
  }
 ],
 "metadata": {
  "kernelspec": {
   "display_name": "Python 3 (ipykernel)",
   "language": "python",
   "name": "python3"
  },
  "language_info": {
   "codemirror_mode": {
    "name": "ipython",
    "version": 3
   },
   "file_extension": ".py",
   "mimetype": "text/x-python",
   "name": "python",
   "nbconvert_exporter": "python",
   "pygments_lexer": "ipython3",
   "version": "3.11.7"
  }
 },
 "nbformat": 4,
 "nbformat_minor": 5
}
